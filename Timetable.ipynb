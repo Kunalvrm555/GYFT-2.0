{
 "cells": [
  {
   "cell_type": "code",
   "execution_count": 177,
   "metadata": {},
   "outputs": [],
   "source": [
    "import pandas as pd\n",
    "path = './Time Table.html'\n",
    "table_MN = pd.read_html(path)"
   ]
  },
  {
   "cell_type": "code",
   "execution_count": 178,
   "metadata": {},
   "outputs": [
    {
     "name": "stdout",
     "output_type": "stream",
     "text": [
      "Total tables: 3\n"
     ]
    }
   ],
   "source": [
    "print(f'Total tables: {len(table_MN)}')"
   ]
  },
  {
   "cell_type": "code",
   "execution_count": 179,
   "metadata": {},
   "outputs": [
    {
     "data": {
      "text/html": [
       "<div>\n",
       "<style scoped>\n",
       "    .dataframe tbody tr th:only-of-type {\n",
       "        vertical-align: middle;\n",
       "    }\n",
       "\n",
       "    .dataframe tbody tr th {\n",
       "        vertical-align: top;\n",
       "    }\n",
       "\n",
       "    .dataframe thead th {\n",
       "        text-align: right;\n",
       "    }\n",
       "</style>\n",
       "<table border=\"1\" class=\"dataframe\">\n",
       "  <thead>\n",
       "    <tr style=\"text-align: right;\">\n",
       "      <th></th>\n",
       "      <th>0</th>\n",
       "      <th>1</th>\n",
       "      <th>2</th>\n",
       "      <th>3</th>\n",
       "      <th>4</th>\n",
       "      <th>5</th>\n",
       "      <th>6</th>\n",
       "      <th>7</th>\n",
       "      <th>8</th>\n",
       "      <th>9</th>\n",
       "    </tr>\n",
       "  </thead>\n",
       "  <tbody>\n",
       "    <tr>\n",
       "      <th>0</th>\n",
       "      <td>Day Name</td>\n",
       "      <td>8:0:AM-8:55:AM</td>\n",
       "      <td>9:0:AM-9:55:AM</td>\n",
       "      <td>10:0:AM-10:55:AM</td>\n",
       "      <td>11:0:AM-11:55:AM</td>\n",
       "      <td>12:0:PM-12:55:PM</td>\n",
       "      <td>2:0:PM-2:55:PM</td>\n",
       "      <td>3:0:PM-3:55:PM</td>\n",
       "      <td>4:0:PM-4:55:PM</td>\n",
       "      <td>5:0:PM-5:55:PM</td>\n",
       "    </tr>\n",
       "    <tr>\n",
       "      <th>1</th>\n",
       "      <td>Mon</td>\n",
       "      <td>MA20202NR111</td>\n",
       "      <td>MA20202NR111</td>\n",
       "      <td>CH21208NC311</td>\n",
       "      <td>NaN</td>\n",
       "      <td>CH21202NC311</td>\n",
       "      <td>NaN</td>\n",
       "      <td>NaN</td>\n",
       "      <td>NaN</td>\n",
       "      <td>NaN</td>\n",
       "    </tr>\n",
       "    <tr>\n",
       "      <th>2</th>\n",
       "      <td>Tue</td>\n",
       "      <td>NaN</td>\n",
       "      <td>NaN</td>\n",
       "      <td>CH21202NC311</td>\n",
       "      <td>CH21202NC311</td>\n",
       "      <td>MA20202NR111</td>\n",
       "      <td>CH29202NC421</td>\n",
       "      <td>CH29202NC421</td>\n",
       "      <td>CH29202NC421</td>\n",
       "      <td>NaN</td>\n",
       "    </tr>\n",
       "    <tr>\n",
       "      <th>3</th>\n",
       "      <td>Wed</td>\n",
       "      <td>CH21208NC311</td>\n",
       "      <td>CH21208NC311</td>\n",
       "      <td>CH21204NC311</td>\n",
       "      <td>NaN</td>\n",
       "      <td>CH21206NC311</td>\n",
       "      <td>NaN</td>\n",
       "      <td>NaN</td>\n",
       "      <td>NaN</td>\n",
       "      <td>NaN</td>\n",
       "    </tr>\n",
       "    <tr>\n",
       "      <th>4</th>\n",
       "      <td>Thur</td>\n",
       "      <td>CH21202NC311</td>\n",
       "      <td>CH21204NC311</td>\n",
       "      <td>CH21208NC311</td>\n",
       "      <td>CH21206NC311</td>\n",
       "      <td>NaN</td>\n",
       "      <td>NaN</td>\n",
       "      <td>NaN</td>\n",
       "      <td>NaN</td>\n",
       "      <td>NaN</td>\n",
       "    </tr>\n",
       "    <tr>\n",
       "      <th>5</th>\n",
       "      <td>Fri</td>\n",
       "      <td>NaN</td>\n",
       "      <td>CH21206NC311</td>\n",
       "      <td>CH21206NC311</td>\n",
       "      <td>CH21204NC311</td>\n",
       "      <td>CH21204NC311</td>\n",
       "      <td>CH29202NC421</td>\n",
       "      <td>CH29202NC421</td>\n",
       "      <td>CH29202NC421</td>\n",
       "      <td>NaN</td>\n",
       "    </tr>\n",
       "  </tbody>\n",
       "</table>\n",
       "</div>"
      ],
      "text/plain": [
       "          0               1               2                 3  \\\n",
       "0  Day Name  8:0:AM-8:55:AM  9:0:AM-9:55:AM  10:0:AM-10:55:AM   \n",
       "1       Mon    MA20202NR111    MA20202NR111      CH21208NC311   \n",
       "2       Tue             NaN             NaN      CH21202NC311   \n",
       "3       Wed    CH21208NC311    CH21208NC311      CH21204NC311   \n",
       "4      Thur    CH21202NC311    CH21204NC311      CH21208NC311   \n",
       "5       Fri             NaN    CH21206NC311      CH21206NC311   \n",
       "\n",
       "                  4                 5               6               7  \\\n",
       "0  11:0:AM-11:55:AM  12:0:PM-12:55:PM  2:0:PM-2:55:PM  3:0:PM-3:55:PM   \n",
       "1               NaN      CH21202NC311             NaN             NaN   \n",
       "2      CH21202NC311      MA20202NR111    CH29202NC421    CH29202NC421   \n",
       "3               NaN      CH21206NC311             NaN             NaN   \n",
       "4      CH21206NC311               NaN             NaN             NaN   \n",
       "5      CH21204NC311      CH21204NC311    CH29202NC421    CH29202NC421   \n",
       "\n",
       "                8               9  \n",
       "0  4:0:PM-4:55:PM  5:0:PM-5:55:PM  \n",
       "1             NaN             NaN  \n",
       "2    CH29202NC421             NaN  \n",
       "3             NaN             NaN  \n",
       "4             NaN             NaN  \n",
       "5    CH29202NC421             NaN  "
      ]
     },
     "execution_count": 179,
     "metadata": {},
     "output_type": "execute_result"
    }
   ],
   "source": [
    "df = table_MN[2]\n",
    "df.head(6)"
   ]
  },
  {
   "cell_type": "code",
   "execution_count": 180,
   "metadata": {},
   "outputs": [],
   "source": [
    "from openpyxl import Workbook\n",
    "wb = Workbook()\n",
    "\n"
   ]
  },
  {
   "cell_type": "code",
   "execution_count": 181,
   "metadata": {},
   "outputs": [],
   "source": [
    "df.to_excel(excel_writer = \"./timetable.xlsx\",sheet_name='timetable',header=False,index = False)"
   ]
  },
  {
   "cell_type": "code",
   "execution_count": 182,
   "metadata": {},
   "outputs": [],
   "source": [
    "from openpyxl import load_workbook\n",
    "from openpyxl.utils import get_column_letter\n",
    "wb = load_workbook(filename = 'timetable.xlsx')\n",
    "sheet = wb.active\n",
    "\n",
    "for i in range (1,7):\n",
    "    sheet.row_dimensions[i].height = 40\n",
    "\n",
    "sheet.column_dimensions['A'].width = 7\n",
    "for i in range (2,11):\n",
    "    sheet.column_dimensions[get_column_letter(i)].width = 20\n",
    "\n",
    "wb.save('timetable.xlsx')"
   ]
  },
  {
   "cell_type": "code",
   "execution_count": 183,
   "metadata": {},
   "outputs": [],
   "source": [
    "from openpyxl.styles import Alignment, Border, Side, Font, PatternFill\n",
    "from openpyxl import load_workbook\n",
    "wb = load_workbook(filename='timetable.xlsx')\n",
    "ws = wb.active\n",
    "\n",
    "ft1 = Font(name='ubuntu',\n",
    "           size=12,\n",
    "           bold=False,\n",
    "           italic=False,\n",
    "           vertAlign=None,\n",
    "           underline='none',\n",
    "           strike=False,\n",
    "           color='00000000')\n",
    "ft2 = Font(name='Roboto',\n",
    "           size=15,\n",
    "           bold=False,\n",
    "           italic=False,\n",
    "           vertAlign=None,\n",
    "           underline='none',\n",
    "           strike=False,\n",
    "           color='000000FF')\n",
    "bd = Border(left=Side(border_style='medium', color='00000000'),\n",
    "            right=Side(border_style='medium', color='00000000'),\n",
    "            top=Side(border_style='medium', color='00000000'),\n",
    "            bottom=Side(border_style='medium', color='00000000'),\n",
    "            diagonal=Side(border_style='medium', color='00000000'),\n",
    "            diagonal_direction=0,\n",
    "            outline=Side(border_style='medium', color='00000000'),\n",
    "            vertical=Side(border_style='medium', color='00000000'),\n",
    "            horizontal=Side(border_style='medium', color='00000000')\n",
    "            )\n",
    "grayfill = PatternFill(start_color='00D9D9D9',\n",
    "                       end_color='00D9D9D9',\n",
    "                       fill_type='solid')\n",
    "align = Alignment(horizontal='center',\n",
    "                  vertical='center',\n",
    "                  text_rotation=0,\n",
    "                  wrap_text=True,\n",
    "                  shrink_to_fit=False,\n",
    "                  indent=0)\n",
    "\n",
    "for i in range(1, 7):\n",
    "    for j in range(1, 11):\n",
    "        cell = ws.cell(row=i, column=j)\n",
    "        cell.font = ft1\n",
    "        cell.border = bd\n",
    "        cell.alignment = align\n",
    "for cell in ws[\"1:1\"]:\n",
    "    cell.font = ft2\n",
    "    cell.fill = grayfill\n",
    "for cell in ws[\"A:A\"]:\n",
    "    cell.font = ft2\n",
    "    cell.fill = grayfill\n",
    "\n",
    "ws['A1'].value = None\n",
    "wb.save('timetable.xlsx')\n"
   ]
  },
  {
   "cell_type": "code",
   "execution_count": 184,
   "metadata": {},
   "outputs": [
    {
     "name": "stdout",
     "output_type": "stream",
     "text": [
      "\n",
      "\n",
      "MA20202 MA20202 CH21208 CH21202 \n",
      "\n",
      "CH21202 CH21202 MA20202 CH29202 CH29202 CH29202 \n",
      "\n",
      "CH21208 CH21208 CH21204 CH21206 \n",
      "\n",
      "CH21202 CH21204 CH21208 CH21206 \n",
      "\n",
      "CH21206 CH21206 CH21204 CH21204 CH29202 CH29202 CH29202 "
     ]
    }
   ],
   "source": [
    "from openpyxl.styles import Alignment, Border, Side, Font, PatternFill\n",
    "from openpyxl import load_workbook\n",
    "wb = load_workbook(filename='timetable.xlsx')\n",
    "ws = wb.active\n",
    "\n",
    "for i in range(2, 7):\n",
    "    print('\\n')\n",
    "    for j in range(2, 11):\n",
    "        cell = ws.cell(row=i, column=j)\n",
    "        if cell.value != None: \n",
    "            data = cell.value\n",
    "            cell.value = data[slice(7)]\n",
    "            print(cell.value, end=\" \")\n",
    "wb.save('timetable.xlsx')\n"
   ]
  },
  {
   "cell_type": "code",
   "execution_count": 176,
   "metadata": {},
   "outputs": [],
   "source": [
    "\n"
   ]
  }
 ],
 "metadata": {
  "interpreter": {
   "hash": "69eb92836b941e979072a76c7fcfffe5419cca933cedd02cfafbdfca1a93358c"
  },
  "kernelspec": {
   "display_name": "Python 3.9.10 64-bit",
   "language": "python",
   "name": "python3"
  },
  "language_info": {
   "codemirror_mode": {
    "name": "ipython",
    "version": 3
   },
   "file_extension": ".py",
   "mimetype": "text/x-python",
   "name": "python",
   "nbconvert_exporter": "python",
   "pygments_lexer": "ipython3",
   "version": "3.9.7"
  },
  "orig_nbformat": 4
 },
 "nbformat": 4,
 "nbformat_minor": 2
}

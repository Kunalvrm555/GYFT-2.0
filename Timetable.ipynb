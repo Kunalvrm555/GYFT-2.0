{
 "cells": [
  {
   "cell_type": "code",
   "execution_count": null,
   "metadata": {},
   "outputs": [],
   "source": [
    "import pandas as pd\n",
    "path = './Time Table.html'\n",
    "table_MN = pd.read_html(path)"
   ]
  },
  {
   "cell_type": "code",
   "execution_count": null,
   "metadata": {},
   "outputs": [],
   "source": [
    "print(f'Total tables: {len(table_MN)}')"
   ]
  },
  {
   "cell_type": "code",
   "execution_count": null,
   "metadata": {},
   "outputs": [],
   "source": [
    "df = table_MN[2]\n",
    "df.head(6)"
   ]
  },
  {
   "cell_type": "code",
   "execution_count": null,
   "metadata": {},
   "outputs": [],
   "source": [
    "from openpyxl import Workbook\n",
    "wb = Workbook()\n",
    "df.to_excel(excel_writer = \"./timetable.xlsx\",sheet_name='timetable',header=False,index = False)"
   ]
  },
  {
   "cell_type": "code",
   "execution_count": null,
   "metadata": {},
   "outputs": [],
   "source": [
    "from openpyxl import load_workbook\n",
    "from openpyxl.utils import get_column_letter\n",
    "wb = load_workbook(filename = 'timetable.xlsx')\n",
    "sheet = wb.active\n",
    "\n",
    "for i in range (1,7):\n",
    "    sheet.row_dimensions[i].height = 40\n",
    "\n",
    "sheet.column_dimensions['A'].width = 7\n",
    "for i in range (2,11):\n",
    "    sheet.column_dimensions[get_column_letter(i)].width = 20\n",
    "\n",
    "wb.save('timetable.xlsx')"
   ]
  },
  {
   "cell_type": "code",
   "execution_count": null,
   "metadata": {},
   "outputs": [],
   "source": [
    "from openpyxl.styles import Alignment, Border, Side, Font, PatternFill\n",
    "from openpyxl import load_workbook\n",
    "wb = load_workbook(filename='timetable.xlsx')\n",
    "ws = wb.active\n",
    "\n",
    "ft1 = Font(name='ubuntu',\n",
    "           size=12,\n",
    "           bold=False,\n",
    "           italic=False,\n",
    "           vertAlign=None,\n",
    "           underline='none',\n",
    "           strike=False,\n",
    "           color='00000000')\n",
    "ft2 = Font(name='Roboto',\n",
    "           size=15,\n",
    "           bold=False,\n",
    "           italic=False,\n",
    "           vertAlign=None,\n",
    "           underline='none',\n",
    "           strike=False,\n",
    "           color='000000FF')\n",
    "bd = Border(left=Side(border_style='medium', color='00000000'),\n",
    "            right=Side(border_style='medium', color='00000000'),\n",
    "            top=Side(border_style='medium', color='00000000'),\n",
    "            bottom=Side(border_style='medium', color='00000000'),\n",
    "            diagonal=Side(border_style='medium', color='00000000'),\n",
    "            diagonal_direction=0,\n",
    "            outline=Side(border_style='medium', color='00000000'),\n",
    "            vertical=Side(border_style='medium', color='00000000'),\n",
    "            horizontal=Side(border_style='medium', color='00000000')\n",
    "            )\n",
    "grayfill = PatternFill(start_color='00D9D9D9',\n",
    "                       end_color='00D9D9D9',\n",
    "                       fill_type='solid')\n",
    "align = Alignment(horizontal='center',\n",
    "                  vertical='center',\n",
    "                  text_rotation=0,\n",
    "                  wrap_text=True,\n",
    "                  shrink_to_fit=False,\n",
    "                  indent=0)\n",
    "\n",
    "for i in range(1, 7):\n",
    "    for j in range(1, 11):\n",
    "        cell = ws.cell(row=i, column=j)\n",
    "        cell.font = ft1\n",
    "        cell.border = bd\n",
    "        cell.alignment = align\n",
    "for cell in ws[\"1:1\"]:\n",
    "    cell.font = ft2\n",
    "    cell.fill = grayfill\n",
    "for cell in ws[\"A:A\"]:\n",
    "    cell.font = ft2\n",
    "    cell.fill = grayfill\n",
    "\n",
    "ws['A1'].value = None\n",
    "wb.save('timetable.xlsx')\n"
   ]
  },
  {
   "cell_type": "code",
   "execution_count": null,
   "metadata": {},
   "outputs": [],
   "source": [
    "from openpyxl.styles import Alignment, Border, Side, Font, PatternFill\n",
    "from openpyxl import load_workbook\n",
    "wb = load_workbook(filename='timetable.xlsx')\n",
    "ws = wb.active\n",
    "\n",
    "for i in range(2, 7):\n",
    "    print('\\n')\n",
    "    for j in range(2, 11):\n",
    "        cell = ws.cell(row=i, column=j)\n",
    "        if cell.value != None: \n",
    "            data = cell.value\n",
    "            cell.value = data[slice(7)]\n",
    "            print(cell.value, end=\" \")\n",
    "wb.save('timetable.xlsx')\n"
   ]
  }
 ],
 "metadata": {
  "interpreter": {
   "hash": "69eb92836b941e979072a76c7fcfffe5419cca933cedd02cfafbdfca1a93358c"
  },
  "kernelspec": {
   "display_name": "Python 3.9.10 64-bit",
   "language": "python",
   "name": "python3"
  },
  "language_info": {
   "codemirror_mode": {
    "name": "ipython",
    "version": 3
   },
   "file_extension": ".py",
   "mimetype": "text/x-python",
   "name": "python",
   "nbconvert_exporter": "python",
   "pygments_lexer": "ipython3",
   "version": "3.9.7"
  },
  "orig_nbformat": 4
 },
 "nbformat": 4,
 "nbformat_minor": 2
}

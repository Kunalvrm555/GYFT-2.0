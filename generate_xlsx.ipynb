{
 "cells": [
  {
   "cell_type": "code",
   "execution_count": 29,
   "metadata": {},
   "outputs": [],
   "source": [
    "import os\n",
    "import json\n",
    "INPUT_FILENAME =  \"data.txt\"\n",
    "if not os.path.exists(INPUT_FILENAME):\n",
    "    print (\"Input file\",INPUT_FILENAME,\"does not exist.\")\n",
    "    os._exit(1)"
   ]
  },
  {
   "cell_type": "code",
   "execution_count": 30,
   "metadata": {},
   "outputs": [],
   "source": [
    "### days to number\n",
    "days = {}\n",
    "days[\"Monday\"] = 0\n",
    "days[\"Tuesday\"] = 1\n",
    "days[\"Wednesday\"] = 2\n",
    "days[\"Thursday\"] = 3\n",
    "days[\"Friday\"] = 4\n",
    "days[\"Saturday\"] = 5\n",
    "###"
   ]
  },
  {
   "cell_type": "code",
   "execution_count": 33,
   "metadata": {},
   "outputs": [
    {
     "name": "stdout",
     "output_type": "stream",
     "text": [
      "MA20202\n",
      "CH21208\n",
      "CH21202\n",
      "CH21202\n",
      "MA20202\n",
      "CH29202\n",
      "CH21208\n",
      "CH21204\n",
      "CH21206\n",
      "CH21202\n",
      "CH21204\n",
      "CH21208\n",
      "CH21206\n",
      "CH21206\n",
      "CH21204\n",
      "CH29202\n"
     ]
    }
   ],
   "source": [
    "# Get your timetable\n",
    "with open(INPUT_FILENAME) as data_file:\n",
    "        data = json.load(data_file)\n",
    "\n",
    "for day in data:\n",
    "    for time in data[day]:\n",
    "        print(data[day][time][0])\n",
    "\n"
   ]
  },
  {
   "cell_type": "code",
   "execution_count": null,
   "metadata": {},
   "outputs": [],
   "source": []
  }
 ],
 "metadata": {
  "interpreter": {
   "hash": "fad76aee14c7373e6a3b698dcb77b4814608d15e69f39cf443e239938e17cf95"
  },
  "kernelspec": {
   "display_name": "Python 3.9.10 64-bit (windows store)",
   "language": "python",
   "name": "python3"
  },
  "language_info": {
   "codemirror_mode": {
    "name": "ipython",
    "version": 3
   },
   "file_extension": ".py",
   "mimetype": "text/x-python",
   "name": "python",
   "nbconvert_exporter": "python",
   "pygments_lexer": "ipython3",
   "version": "3.9.10"
  },
  "orig_nbformat": 4
 },
 "nbformat": 4,
 "nbformat_minor": 2
}

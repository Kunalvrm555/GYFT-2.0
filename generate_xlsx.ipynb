{
 "cells": [
  {
   "cell_type": "code",
   "execution_count": 280,
   "metadata": {},
   "outputs": [],
   "source": [
    "import os\n",
    "import json\n",
    "import openpyxl\n",
    "from openpyxl import load_workbook\n",
    "INPUT_FILENAME =  \"data.txt\"\n",
    "if not os.path.exists(INPUT_FILENAME):\n",
    "    print (\"Input file\",INPUT_FILENAME,\"does not exist.\")\n",
    "    os._exit(1)"
   ]
  },
  {
   "cell_type": "code",
   "execution_count": 281,
   "metadata": {},
   "outputs": [],
   "source": [
    "# time slots from numbers\n",
    "hours = {}\n",
    "hours[1] = \"8:0:AM-8:55:AM\"\n",
    "hours[2] = \"9:0:AM-9:55:AM\"\n",
    "hours[3] = \"10:0:AM-10:55:AM\"\n",
    "hours[4] = \"11:0:AM-11:55:AM\"\n",
    "hours[5] = \"12:0:PM-12:55:PM\"\n",
    "hours[6] = \"1:0:PM-1:55:PM\"\n",
    "hours[7] = \"2:0:PM-2:55:PM\"\n",
    "hours[8] = \"3:0:PM-3:55:PM\"\n",
    "hours[9] = \"4:0:PM-4:55:PM\"\n",
    "hours[10] = \"5:0:PM-5:55:PM\""
   ]
  },
  {
   "cell_type": "code",
   "execution_count": 282,
   "metadata": {},
   "outputs": [],
   "source": [
    "from openpyxl import Workbook\n",
    "wb = Workbook()\n",
    "ws = wb.active"
   ]
  },
  {
   "cell_type": "code",
   "execution_count": 283,
   "metadata": {},
   "outputs": [],
   "source": [
    "# Get your timetable\n",
    "with open(INPUT_FILENAME) as data_file:\n",
    "        data = json.load(data_file)"
   ]
  },
  {
   "cell_type": "code",
   "execution_count": 284,
   "metadata": {},
   "outputs": [],
   "source": [
    "#PRINT days in column A of sheet\n",
    "for i,day in zip(range(2,8),data):\n",
    "    ws.cell(row=i,column=1).value = day[slice(3)].upper()\n",
    "wb.save('timetable.xlsx')\n"
   ]
  },
  {
   "cell_type": "code",
   "execution_count": 285,
   "metadata": {},
   "outputs": [],
   "source": [
    "#PRINT hours in row 1 of sheet\n",
    "for i,j in zip(range(2,12),range(1,11)):\n",
    "    ws.cell(row=1,column=i).value = hours[j]\n",
    "wb.save('timetable.xlsx')"
   ]
  },
  {
   "cell_type": "code",
   "execution_count": 286,
   "metadata": {},
   "outputs": [
    {
     "name": "stdout",
     "output_type": "stream",
     "text": [
      "6\n"
     ]
    }
   ],
   "source": [
    "#ROW NO BY DAY\n",
    "rowno = {}\n",
    "rowno[\"Monday\"] = 2\n",
    "rowno[\"Tuesday\"] = 3\n",
    "rowno[\"Wednesday\"] = 4\n",
    "rowno[\"Thursday\"] = 5\n",
    "rowno[\"Friday\"] = 6\n",
    "rowno[\"Saturday\"] = 7\n",
    "print(rowno[\"Friday\"])"
   ]
  },
  {
   "cell_type": "code",
   "execution_count": 287,
   "metadata": {},
   "outputs": [],
   "source": [
    "# COLUMN NO BY TIME SLOT\n",
    "columnno = {}\n",
    "columnno[\"8:0:AM-8:55:AM\"] = 2\n",
    "columnno[\"9:0:AM-9:55:AM\"] = 3\n",
    "columnno[\"10:0:AM-10:55:AM\"] = 4\n",
    "columnno[\"11:0:AM-11:55:AM\"] = 5\n",
    "columnno[\"12:0:PM-12:55:PM\"] = 6\n",
    "columnno[\"2:0:PM-2:55:PM\"] = 8\n",
    "columnno[\"5:0:PM-5:55:PM\"] = 11\n",
    "# print(columnno[\"2:0:PM-2:55:PM\"])"
   ]
  },
  {
   "cell_type": "code",
   "execution_count": 288,
   "metadata": {},
   "outputs": [],
   "source": [
    "# Get subjects code and their respective name from file 'subjects.json'\n",
    "with open('subjects.json') as data_file:\n",
    "    subjects = json.load(data_file)\n",
    "# Find the name of this course\n",
    "# Use subject name if available, else return subject code\n",
    "def subject_name(subject_code):\n",
    "    if (subject_code in subjects.keys()):\n",
    "                return subjects[subject_code].title()\n",
    "    else:\n",
    "        return subject_code\n",
    "# print(subjects['CH21206'].title())                "
   ]
  },
  {
   "cell_type": "code",
   "execution_count": 289,
   "metadata": {},
   "outputs": [],
   "source": [
    "for day in data:\n",
    "    for time in data[day]:\n",
    "        cell = ws.cell(row = rowno[day],column = columnno[time])\n",
    "        cell.value = subject_name(data[day][time][0])\n",
    "        if(data[day][time][2]>1):\n",
    "            ws.merge_cells(start_row=rowno[day],start_column=columnno[time],end_row = rowno[day],end_column=columnno[time]+data[day][time][2]-1)\n",
    "wb.save('timetable.xlsx')\n"
   ]
  },
  {
   "cell_type": "code",
   "execution_count": 290,
   "metadata": {},
   "outputs": [],
   "source": [
    "from openpyxl.utils import get_column_letter\n",
    "\n",
    "ws.row_dimensions[1].width = 40\n",
    "for i in range (2,7):\n",
    "    ws.row_dimensions[i].height = 34\n",
    "\n",
    "ws.column_dimensions['A'].width = 8\n",
    "for i in range (2,12):\n",
    "    ws.column_dimensions[get_column_letter(i)].width = 17\n",
    "\n",
    "wb.save('timetable.xlsx')"
   ]
  },
  {
   "cell_type": "code",
   "execution_count": 291,
   "metadata": {},
   "outputs": [],
   "source": [
    "from openpyxl.styles import Alignment, Border, Side, Font, PatternFill\n",
    "\n",
    "ft1 = Font(name='ubuntu',\n",
    "           size=12,\n",
    "           bold=False,\n",
    "           italic=False,\n",
    "           vertAlign=None,\n",
    "           underline='none',\n",
    "           strike=False,\n",
    "           color='00000000')\n",
    "ft2 = Font(name='Roboto',\n",
    "           size=15,\n",
    "           bold=False,\n",
    "           italic=False,\n",
    "           vertAlign=None,\n",
    "           underline='none',\n",
    "           strike=False,\n",
    "           color='000000FF')\n",
    "bd = Border(left=Side(border_style='medium', color='00000000'),\n",
    "            right=Side(border_style='medium', color='00000000'),\n",
    "            top=Side(border_style='medium', color='00000000'),\n",
    "            bottom=Side(border_style='medium', color='00000000'),\n",
    "            diagonal=Side(border_style='medium', color='00000000'),\n",
    "            diagonal_direction=0,\n",
    "            outline=Side(border_style='medium', color='00000000'),\n",
    "            vertical=Side(border_style='medium', color='00000000'),\n",
    "            horizontal=Side(border_style='medium', color='00000000')\n",
    "            )\n",
    "grayfill = PatternFill(start_color='00D9D9D9',\n",
    "                       end_color='00D9D9D9',\n",
    "                       fill_type='solid')\n",
    "align = Alignment(horizontal='center',\n",
    "                  vertical='center',\n",
    "                  text_rotation=0,\n",
    "                  wrap_text=True,\n",
    "                  shrink_to_fit=False,\n",
    "                  indent=0)\n"
   ]
  },
  {
   "cell_type": "code",
   "execution_count": 292,
   "metadata": {},
   "outputs": [],
   "source": [
    "#FIRST ROW AND COLUMN STYLES\n",
    "for i in range(1, 7):\n",
    "    for j in range(1, 12):\n",
    "        cell = ws.cell(row=i, column=j)\n",
    "        cell.font = ft1\n",
    "        cell.border = bd\n",
    "        cell.alignment = align\n",
    "for cell in ws[\"1:1\"]:\n",
    "    cell.font = ft2\n",
    "    cell.fill = grayfill\n",
    "for cell in ws[\"A:A\"]:\n",
    "    cell.font = ft2\n",
    "    cell.fill = grayfill\n",
    "\n",
    "ws['A1'].value = None\n",
    "wb.save('timetable.xlsx')\n"
   ]
  }
 ],
 "metadata": {
  "interpreter": {
   "hash": "fad76aee14c7373e6a3b698dcb77b4814608d15e69f39cf443e239938e17cf95"
  },
  "kernelspec": {
   "display_name": "Python 3.9.10 64-bit (windows store)",
   "language": "python",
   "name": "python3"
  },
  "language_info": {
   "codemirror_mode": {
    "name": "ipython",
    "version": 3
   },
   "file_extension": ".py",
   "mimetype": "text/x-python",
   "name": "python",
   "nbconvert_exporter": "python",
   "pygments_lexer": "ipython3",
   "version": "3.9.10"
  },
  "orig_nbformat": 4
 },
 "nbformat": 4,
 "nbformat_minor": 2
}
